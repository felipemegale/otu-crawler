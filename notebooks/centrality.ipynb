{
 "cells": [
  {
   "cell_type": "code",
   "execution_count": 29,
   "metadata": {},
   "outputs": [],
   "source": [
    "import networkx as nx\n",
    "import os\n",
    "import re\n",
    "from networkx.algorithms.centrality import degree_centrality, in_degree_centrality, out_degree_centrality, betweenness_centrality, closeness_centrality"
   ]
  },
  {
   "cell_type": "code",
   "execution_count": 2,
   "metadata": {},
   "outputs": [
    {
     "data": {
      "text/plain": [
       "['gephi_net_0.csv',\n",
       " 'gephi_net_1.csv',\n",
       " 'gephi_net_2.csv',\n",
       " 'gephi_net_3.csv',\n",
       " 'gephi_net_4.csv',\n",
       " 'gephi_net_5.csv',\n",
       " 'gephi_net_6.csv',\n",
       " 'gephi_net_7.csv',\n",
       " 'gephi_net_8.csv']"
      ]
     },
     "execution_count": 2,
     "metadata": {},
     "output_type": "execute_result"
    }
   ],
   "source": [
    "file_path = \"../csv/net\"\n",
    "imgs_path = \"../img\"\n",
    "regex = re.compile(\"gephi.*csv\")\n",
    "net_files = list(filter(regex.match, sorted(os.listdir(file_path))))\n",
    "net_files"
   ]
  },
  {
   "cell_type": "code",
   "execution_count": 3,
   "metadata": {},
   "outputs": [],
   "source": [
    "'''Network 0'''\n",
    "net_0 = nx.DiGraph()\n",
    "with open(f\"{file_path}/{net_files[0]}\") as f:\n",
    "    file_content = (f.read().splitlines())\n",
    "\n",
    "for line in file_content:\n",
    "    nodes = [int(x) for x in line.split(',')]\n",
    "    edges = [(nodes[0],x) for x in nodes[1:]]\n",
    "    if len(edges) > 1:\n",
    "        net_0.add_edges_from(edges)\n",
    "    else:\n",
    "        net_0.add_node(nodes[0])\n",
    "\n",
    "# nx.draw_circular(net_0, with_labels=True)"
   ]
  },
  {
   "cell_type": "code",
   "execution_count": 4,
   "metadata": {},
   "outputs": [],
   "source": [
    "'''Network 1'''\n",
    "net_1 = nx.Graph()\n",
    "with open(f\"{file_path}/{net_files[1]}\") as f:\n",
    "    file_content = (f.read().splitlines())\n",
    "\n",
    "for line in file_content:\n",
    "    nodes = [int(x) for x in line.split(',')]\n",
    "    edges = [(nodes[0],x) for x in nodes[1:]]\n",
    "    if len(edges) > 1:\n",
    "        net_1.add_edges_from(edges)\n",
    "    else:\n",
    "        net_1.add_node(nodes[0])\n",
    "\n",
    "# nx.draw_circular(net_1, with_labels=True)"
   ]
  },
  {
   "cell_type": "code",
   "execution_count": 5,
   "metadata": {},
   "outputs": [],
   "source": [
    "'''Network 2'''\n",
    "net_2 = nx.Graph()\n",
    "with open(f\"{file_path}/{net_files[2]}\") as f:\n",
    "    file_content = (f.read().splitlines())\n",
    "\n",
    "for line in file_content:\n",
    "    nodes = [int(x) for x in line.split(',')]\n",
    "    edges = [(nodes[0],x) for x in nodes[1:]]\n",
    "    if len(edges) > 1:\n",
    "        net_2.add_edges_from(edges)\n",
    "    else:\n",
    "        net_2.add_node(nodes[0])\n",
    "\n",
    "# nx.draw_circular(net_2, with_labels=True)"
   ]
  },
  {
   "cell_type": "code",
   "execution_count": 6,
   "metadata": {},
   "outputs": [],
   "source": [
    "'''Network 3'''\n",
    "net_3 = nx.Graph()\n",
    "with open(f\"{file_path}/{net_files[3]}\") as f:\n",
    "    file_content = (f.read().splitlines())\n",
    "\n",
    "for line in file_content:\n",
    "    nodes = [int(x) for x in line.split(',')]\n",
    "    edges = [(nodes[0],x) for x in nodes[1:]]\n",
    "    if len(edges) > 1:\n",
    "        net_3.add_edges_from(edges)\n",
    "    else:\n",
    "        net_3.add_node(nodes[0])\n",
    "\n",
    "# nx.draw_circular(net_3, with_labels=True)"
   ]
  },
  {
   "cell_type": "code",
   "execution_count": 7,
   "metadata": {},
   "outputs": [],
   "source": [
    "'''Network 4'''\n",
    "net_4 = nx.Graph()\n",
    "with open(f\"{file_path}/{net_files[4]}\") as f:\n",
    "    file_content = (f.read().splitlines())\n",
    "\n",
    "for line in file_content:\n",
    "    nodes = [int(x) for x in line.split(',')]\n",
    "    edges = [(nodes[0],x) for x in nodes[1:]]\n",
    "    if len(edges) > 1:\n",
    "        net_4.add_edges_from(edges)\n",
    "    else:\n",
    "        net_4.add_node(nodes[0])\n",
    "\n",
    "# nx.draw_circular(net_4, with_labels=True)"
   ]
  },
  {
   "cell_type": "code",
   "execution_count": 8,
   "metadata": {},
   "outputs": [],
   "source": [
    "'''Network 6'''\n",
    "net_6 = nx.Graph()\n",
    "with open(f\"{file_path}/{net_files[6]}\") as f:\n",
    "    file_content = (f.read().splitlines())\n",
    "\n",
    "for line in file_content:\n",
    "    nodes = [int(x) for x in line.split(',')]\n",
    "    edges = [(nodes[0],x) for x in nodes[1:]]\n",
    "    if len(edges) > 1:\n",
    "        net_6.add_edges_from(edges)\n",
    "    else:\n",
    "        net_6.add_node(nodes[0])\n",
    "\n",
    "# nx.draw_circular(net_6, with_labels=True)"
   ]
  },
  {
   "cell_type": "code",
   "execution_count": 28,
   "metadata": {},
   "outputs": [
    {
     "name": "stdout",
     "output_type": "stream",
     "text": [
      "Network 0 in degree [(17, 0.576271186440678), (5, 0.5084745762711864)]\n",
      "Network 0 out degree [(10, 0.2711864406779661), (19, 0.2542372881355932)]\n"
     ]
    }
   ],
   "source": [
    "'''Network 0 Centrality'''\n",
    "net_0_in_degree_centrality = in_degree_centrality(net_0)\n",
    "net_0_in_degree_centrality = dict(sorted(net_0_in_degree_centrality.items(), key=lambda item: item[1], reverse=True))\n",
    "\n",
    "net_0_out_degree_centrality = out_degree_centrality(net_0)\n",
    "net_0_out_degree_centrality = dict(sorted(net_0_out_degree_centrality.items(), key=lambda item: item[1], reverse=True))\n",
    "\n",
    "net_0_in_degree_items = list(net_0_in_degree_centrality.items())[:2]\n",
    "net_0_out_degree_items = list(net_0_out_degree_centrality.items())[:2]\n",
    "\n",
    "print(\"Network 0 in degree\", net_0_in_degree_items)\n",
    "print(\"Network 0 out degree\", net_0_out_degree_items)"
   ]
  },
  {
   "cell_type": "code",
   "execution_count": 34,
   "metadata": {},
   "outputs": [
    {
     "name": "stdout",
     "output_type": "stream",
     "text": [
      "Network 1 degree [(10, 0.1864406779661017), (42, 0.15254237288135594)]\n",
      "Network 1 betweenness [(17, 0.16923080414846497), (30, 0.13140839494408096)]\n"
     ]
    }
   ],
   "source": [
    "'''Network 1 Centrality'''\n",
    "net_1_degree_centrality = degree_centrality(net_1)\n",
    "net_1_degree_centrality = dict(sorted(net_1_degree_centrality.items(), key=lambda item: item[1], reverse=True))\n",
    "\n",
    "net_1_betweenneess_centrality = betweenness_centrality(net_1)\n",
    "net_1_betweenneess_centrality = dict(sorted(net_1_betweenneess_centrality.items(), key=lambda item: item[1], reverse=True))\n",
    "\n",
    "net_1_degree_items = list(net_1_degree_centrality.items())[:2]\n",
    "net_1_betweenness_items = list(net_1_betweenneess_centrality.items())[:2]\n",
    "\n",
    "print(\"Network 1 degree\", net_1_degree_items)\n",
    "print(\"Network 1 betweenness\", net_1_betweenness_items)"
   ]
  },
  {
   "cell_type": "code",
   "execution_count": 35,
   "metadata": {},
   "outputs": [
    {
     "name": "stdout",
     "output_type": "stream",
     "text": [
      "Network 2 degree [(48, 0.13793103448275862), (42, 0.13793103448275862)]\n",
      "Network 2 closeness [(48, 0.2456165984804208), (30, 0.24355259345117355)]\n"
     ]
    }
   ],
   "source": [
    "'''Network 2 Centrality'''\n",
    "net_2_degree_centrality = degree_centrality(net_2)\n",
    "net_2_degree_centrality = dict(sorted(net_2_degree_centrality.items(), key=lambda item: item[1], reverse=True))\n",
    "\n",
    "net_2_closeness_centrality = closeness_centrality(net_2)\n",
    "net_2_closeness_centrality = dict(sorted(net_2_closeness_centrality.items(), key=lambda item: item[1], reverse=True))\n",
    "\n",
    "net_2_degree_items = list(net_2_degree_centrality.items())[:2]\n",
    "net_2_closeness_items = list(net_2_closeness_centrality.items())[:2]\n",
    "\n",
    "print(\"Network 2 degree\", net_2_degree_items)\n",
    "print(\"Network 2 closeness\", net_2_closeness_items)"
   ]
  },
  {
   "cell_type": "code",
   "execution_count": 36,
   "metadata": {},
   "outputs": [
    {
     "name": "stdout",
     "output_type": "stream",
     "text": [
      "Network 3 closeness [(10, 0.1699623352165725), (33, 0.16536875858909755)]\n",
      "Network 3 betweenness [(10, 0.03915838690824079), (33, 0.032144944476914086)]\n"
     ]
    }
   ],
   "source": [
    "'''Network 3 Centrality'''\n",
    "net_3_close_centrality = closeness_centrality(net_3)\n",
    "net_3_close_centrality = dict(sorted(net_3_close_centrality.items(), key=lambda item: item[1], reverse=True))\n",
    "\n",
    "net_3_bet_centrality = betweenness_centrality(net_3)\n",
    "net_3_bet_centrality = dict(sorted(net_3_bet_centrality.items(), key=lambda item: item[1], reverse=True))\n",
    "\n",
    "net_3_close_items = list(net_3_close_centrality.items())[:2]\n",
    "net_3_bet_items = list(net_3_bet_centrality.items())[:2]\n",
    "\n",
    "print(\"Network 3 closeness\", net_3_close_items)\n",
    "print(\"Network 3 betweenness\", net_3_bet_items)"
   ]
  },
  {
   "cell_type": "code",
   "execution_count": 37,
   "metadata": {},
   "outputs": [
    {
     "name": "stdout",
     "output_type": "stream",
     "text": [
      "Network 4 degree [(53, 0.12068965517241378), (54, 0.12068965517241378)]\n",
      "Network 4 betweenness [(42, 0.00524299253881831), (53, 0.004940512200040332)]\n"
     ]
    }
   ],
   "source": [
    "'''Network 4 Centrality'''\n",
    "net_4_deg_centrality = degree_centrality(net_4)\n",
    "net_4_deg_centrality = dict(sorted(net_4_deg_centrality.items(), key=lambda item: item[1], reverse=True))\n",
    "\n",
    "net_4_bet_centrality = betweenness_centrality(net_4)\n",
    "net_4_bet_centrality = dict(sorted(net_4_bet_centrality.items(), key=lambda item: item[1], reverse=True))\n",
    "\n",
    "net_4_deg_items = list(net_4_deg_centrality.items())[:2]\n",
    "net_4_bet_items = list(net_4_bet_centrality.items())[:2]\n",
    "\n",
    "print(\"Network 4 degree\", net_4_deg_items)\n",
    "print(\"Network 4 betweenness\", net_4_bet_items)"
   ]
  },
  {
   "cell_type": "code",
   "execution_count": 38,
   "metadata": {},
   "outputs": [
    {
     "name": "stdout",
     "output_type": "stream",
     "text": [
      "Network 6 degree [(3, 0.3220338983050847), (28, 0.3050847457627119)]\n",
      "Network 6 closeness [(28, 0.5430185633575465), (17, 0.5090799031476998)]\n"
     ]
    }
   ],
   "source": [
    "'''Network 6 Centrality'''\n",
    "net_6_deg_centrality = degree_centrality(net_6)\n",
    "net_6_deg_centrality = dict(sorted(net_6_deg_centrality.items(), key=lambda item: item[1], reverse=True))\n",
    "\n",
    "net_6_close_centrality = closeness_centrality(net_6)\n",
    "net_6_close_centrality = dict(sorted(net_6_close_centrality.items(), key=lambda item: item[1], reverse=True))\n",
    "\n",
    "net_6_deg_items = list(net_6_deg_centrality.items())[:2]\n",
    "net_6_close_items = list(net_6_close_centrality.items())[:2]\n",
    "\n",
    "print(\"Network 6 degree\", net_6_deg_items)\n",
    "print(\"Network 6 closeness\", net_6_close_items)"
   ]
  },
  {
   "cell_type": "code",
   "execution_count": null,
   "metadata": {},
   "outputs": [],
   "source": []
  }
 ],
 "metadata": {
  "interpreter": {
   "hash": "861aa9608e346ca8088fd128975b05b28889f359c70fcf3aa48272e489c6a90e"
  },
  "kernelspec": {
   "display_name": "Python 3.8.12 ('netanalysis')",
   "language": "python",
   "name": "python3"
  },
  "language_info": {
   "codemirror_mode": {
    "name": "ipython",
    "version": 3
   },
   "file_extension": ".py",
   "mimetype": "text/x-python",
   "name": "python",
   "nbconvert_exporter": "python",
   "pygments_lexer": "ipython3",
   "version": "3.8.12"
  },
  "orig_nbformat": 4
 },
 "nbformat": 4,
 "nbformat_minor": 2
}
