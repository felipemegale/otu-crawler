{
 "cells": [
  {
   "cell_type": "code",
   "execution_count": 12,
   "metadata": {},
   "outputs": [],
   "source": [
    "import networkx as nx\n",
    "import os\n",
    "import re"
   ]
  },
  {
   "cell_type": "code",
   "execution_count": 13,
   "metadata": {},
   "outputs": [
    {
     "data": {
      "text/plain": [
       "['gephi_net_0.csv',\n",
       " 'gephi_net_1.csv',\n",
       " 'gephi_net_2.csv',\n",
       " 'gephi_net_3.csv',\n",
       " 'gephi_net_4.csv',\n",
       " 'gephi_net_5.csv',\n",
       " 'gephi_net_6.csv',\n",
       " 'gephi_net_7.csv',\n",
       " 'gephi_net_8.csv']"
      ]
     },
     "execution_count": 13,
     "metadata": {},
     "output_type": "execute_result"
    }
   ],
   "source": [
    "file_path = \"../csv/net\"\n",
    "imgs_path = \"../img\"\n",
    "regex = re.compile(\"gephi.*csv\")\n",
    "net_files = list(filter(regex.match, sorted(os.listdir(file_path))))\n",
    "net_files"
   ]
  },
  {
   "cell_type": "code",
   "execution_count": 14,
   "metadata": {},
   "outputs": [],
   "source": [
    "'''Network 0'''\n",
    "net_0 = nx.DiGraph()\n",
    "with open(f\"{file_path}/{net_files[0]}\") as f:\n",
    "    file_content = (f.read().splitlines())\n",
    "\n",
    "for line in file_content:\n",
    "    nodes = [int(x) for x in line.split(',')]\n",
    "    edges = [(nodes[0],x) for x in nodes[1:]]\n",
    "    if len(edges) > 1:\n",
    "        net_0.add_edges_from(edges)\n",
    "    else:\n",
    "        net_0.add_node(nodes[0])\n",
    "\n",
    "# nx.draw_circular(net_0, with_labels=True)"
   ]
  },
  {
   "cell_type": "code",
   "execution_count": 15,
   "metadata": {},
   "outputs": [],
   "source": [
    "'''Network 1'''\n",
    "net_1 = nx.Graph()\n",
    "with open(f\"{file_path}/{net_files[1]}\") as f:\n",
    "    file_content = (f.read().splitlines())\n",
    "\n",
    "for line in file_content:\n",
    "    nodes = [int(x) for x in line.split(',')]\n",
    "    edges = [(nodes[0],x) for x in nodes[1:]]\n",
    "    if len(edges) > 1:\n",
    "        net_1.add_edges_from(edges)\n",
    "    else:\n",
    "        net_1.add_node(nodes[0])\n",
    "\n",
    "# nx.draw_circular(net_1, with_labels=True)"
   ]
  },
  {
   "cell_type": "code",
   "execution_count": 16,
   "metadata": {},
   "outputs": [],
   "source": [
    "'''Network 2'''\n",
    "net_2 = nx.Graph()\n",
    "with open(f\"{file_path}/{net_files[2]}\") as f:\n",
    "    file_content = (f.read().splitlines())\n",
    "\n",
    "for line in file_content:\n",
    "    nodes = [int(x) for x in line.split(',')]\n",
    "    edges = [(nodes[0],x) for x in nodes[1:]]\n",
    "    if len(edges) > 1:\n",
    "        net_2.add_edges_from(edges)\n",
    "    else:\n",
    "        net_2.add_node(nodes[0])\n",
    "\n",
    "# nx.draw_circular(net_2, with_labels=True)"
   ]
  },
  {
   "cell_type": "code",
   "execution_count": 17,
   "metadata": {},
   "outputs": [],
   "source": [
    "'''Network 3'''\n",
    "net_3 = nx.Graph()\n",
    "with open(f\"{file_path}/{net_files[3]}\") as f:\n",
    "    file_content = (f.read().splitlines())\n",
    "\n",
    "for line in file_content:\n",
    "    nodes = [int(x) for x in line.split(',')]\n",
    "    edges = [(nodes[0],x) for x in nodes[1:]]\n",
    "    if len(edges) > 1:\n",
    "        net_3.add_edges_from(edges)\n",
    "    else:\n",
    "        net_3.add_node(nodes[0])\n",
    "\n",
    "# nx.draw_circular(net_3, with_labels=True)"
   ]
  },
  {
   "cell_type": "code",
   "execution_count": 18,
   "metadata": {},
   "outputs": [],
   "source": [
    "'''Network 4'''\n",
    "net_4 = nx.Graph()\n",
    "with open(f\"{file_path}/{net_files[4]}\") as f:\n",
    "    file_content = (f.read().splitlines())\n",
    "\n",
    "for line in file_content:\n",
    "    nodes = [int(x) for x in line.split(',')]\n",
    "    edges = [(nodes[0],x) for x in nodes[1:]]\n",
    "    if len(edges) > 1:\n",
    "        net_4.add_edges_from(edges)\n",
    "    else:\n",
    "        net_4.add_node(nodes[0])\n",
    "\n",
    "# nx.draw_circular(net_4, with_labels=True)"
   ]
  },
  {
   "cell_type": "code",
   "execution_count": 19,
   "metadata": {},
   "outputs": [],
   "source": [
    "'''Network 6'''\n",
    "net_6 = nx.Graph()\n",
    "with open(f\"{file_path}/{net_files[6]}\") as f:\n",
    "    file_content = (f.read().splitlines())\n",
    "\n",
    "for line in file_content:\n",
    "    nodes = [int(x) for x in line.split(',')]\n",
    "    edges = [(nodes[0],x) for x in nodes[1:]]\n",
    "    if len(edges) > 1:\n",
    "        net_6.add_edges_from(edges)\n",
    "    else:\n",
    "        net_6.add_node(nodes[0])\n",
    "\n",
    "# nx.draw_circular(net_6, with_labels=True)"
   ]
  },
  {
   "cell_type": "code",
   "execution_count": 20,
   "metadata": {},
   "outputs": [
    {
     "name": "stdout",
     "output_type": "stream",
     "text": [
      "Network 0 nodes 60\n",
      "Network 0 edges 426\n",
      "Network 0 density 0.12033898305084746\n",
      "Network 0 avg clust coef 0.3945923600015986\n"
     ]
    }
   ],
   "source": [
    "'''Network 0 Statistics'''\n",
    "net_0_nodes = net_0.number_of_nodes()\n",
    "net_0_edges = net_0.number_of_edges()\n",
    "net_0_density = nx.density(net_0)\n",
    "net_0_avg_clust_coef = nx.average_clustering(net_0)\n",
    "\n",
    "print(\"Network 0 nodes\", net_0_nodes)\n",
    "print(\"Network 0 edges\", net_0_edges)\n",
    "print(\"Network 0 density\", net_0_density)\n",
    "print(\"Network 0 avg clust coef\", net_0_avg_clust_coef)"
   ]
  },
  {
   "cell_type": "code",
   "execution_count": 21,
   "metadata": {},
   "outputs": [
    {
     "name": "stdout",
     "output_type": "stream",
     "text": [
      "Network 1 nodes 60\n",
      "Network 1 edges 120\n",
      "Network 1 density 0.06779661016949153\n",
      "Network 1 avg clust coef 0.30476911976911975\n"
     ]
    }
   ],
   "source": [
    "'''Network 1 Statistics'''\n",
    "net_1_nodes = net_1.number_of_nodes()\n",
    "net_1_edges = net_1.number_of_edges()\n",
    "net_1_density = nx.density(net_1)\n",
    "net_1_avg_clust_coef = nx.average_clustering(net_1)\n",
    "\n",
    "print(\"Network 1 nodes\", net_1_nodes)\n",
    "print(\"Network 1 edges\", net_1_edges)\n",
    "print(\"Network 1 density\", net_1_density)\n",
    "print(\"Network 1 avg clust coef\", net_1_avg_clust_coef)"
   ]
  },
  {
   "cell_type": "code",
   "execution_count": 22,
   "metadata": {},
   "outputs": [
    {
     "name": "stdout",
     "output_type": "stream",
     "text": [
      "Network 2 nodes 59\n",
      "Network 2 edges 73\n",
      "Network 2 density 0.04266510812390415\n",
      "Network 2 avg clust coef 0.29665052461662633\n"
     ]
    }
   ],
   "source": [
    "'''Network 2 Statistics'''\n",
    "net_2_nodes = net_2.number_of_nodes()\n",
    "net_2_edges = net_2.number_of_edges()\n",
    "net_2_density = nx.density(net_2)\n",
    "net_2_avg_clust_coef = nx.average_clustering(net_2)\n",
    "\n",
    "print(\"Network 2 nodes\", net_2_nodes)\n",
    "print(\"Network 2 edges\", net_2_edges)\n",
    "print(\"Network 2 density\", net_2_density)\n",
    "print(\"Network 2 avg clust coef\", net_2_avg_clust_coef)"
   ]
  },
  {
   "cell_type": "code",
   "execution_count": 23,
   "metadata": {},
   "outputs": [
    {
     "name": "stdout",
     "output_type": "stream",
     "text": [
      "Network 3 nodes 60\n",
      "Network 3 edges 48\n",
      "Network 3 density 0.02711864406779661\n",
      "Network 3 avg clust coef 0.24103174603174604\n"
     ]
    }
   ],
   "source": [
    "'''Network 3 Statistics'''\n",
    "net_3_nodes = net_3.number_of_nodes()\n",
    "net_3_edges = net_3.number_of_edges()\n",
    "net_3_density = nx.density(net_3)\n",
    "net_3_avg_clust_coef = nx.average_clustering(net_3)\n",
    "\n",
    "print(\"Network 3 nodes\", net_3_nodes)\n",
    "print(\"Network 3 edges\", net_3_edges)\n",
    "print(\"Network 3 density\", net_3_density)\n",
    "print(\"Network 3 avg clust coef\", net_3_avg_clust_coef)"
   ]
  },
  {
   "cell_type": "code",
   "execution_count": 24,
   "metadata": {},
   "outputs": [
    {
     "name": "stdout",
     "output_type": "stream",
     "text": [
      "Network 4 nodes 59\n",
      "Network 4 edges 30\n",
      "Network 4 density 0.017533606078316773\n",
      "Network 4 avg clust coef 0.16803874092009685\n"
     ]
    }
   ],
   "source": [
    "'''Network 4 Statistics'''\n",
    "net_4_nodes = net_4.number_of_nodes()\n",
    "net_4_edges = net_4.number_of_edges()\n",
    "net_4_density = nx.density(net_4)\n",
    "net_4_avg_clust_coef = nx.average_clustering(net_4)\n",
    "\n",
    "print(\"Network 4 nodes\", net_4_nodes)\n",
    "print(\"Network 4 edges\", net_4_edges)\n",
    "print(\"Network 4 density\", net_4_density)\n",
    "print(\"Network 4 avg clust coef\", net_4_avg_clust_coef)"
   ]
  },
  {
   "cell_type": "code",
   "execution_count": 25,
   "metadata": {},
   "outputs": [
    {
     "name": "stdout",
     "output_type": "stream",
     "text": [
      "Network 6 nodes 60\n",
      "Network 6 edges 214\n",
      "Network 6 density 0.12090395480225989\n",
      "Network 6 avg clust coef 0.48820136362319017\n"
     ]
    }
   ],
   "source": [
    "'''Network 6 Statistics'''\n",
    "net_6_nodes = net_6.number_of_nodes()\n",
    "net_6_edges = net_6.number_of_edges()\n",
    "net_6_density = nx.density(net_6)\n",
    "net_6_avg_clust_coef = nx.average_clustering(net_6)\n",
    "\n",
    "print(\"Network 6 nodes\", net_6_nodes)\n",
    "print(\"Network 6 edges\", net_6_edges)\n",
    "print(\"Network 6 density\", net_6_density)\n",
    "print(\"Network 6 avg clust coef\", net_6_avg_clust_coef)"
   ]
  }
 ],
 "metadata": {
  "interpreter": {
   "hash": "861aa9608e346ca8088fd128975b05b28889f359c70fcf3aa48272e489c6a90e"
  },
  "kernelspec": {
   "display_name": "Python 3.8.12 ('netanalysis')",
   "language": "python",
   "name": "python3"
  },
  "language_info": {
   "codemirror_mode": {
    "name": "ipython",
    "version": 3
   },
   "file_extension": ".py",
   "mimetype": "text/x-python",
   "name": "python",
   "nbconvert_exporter": "python",
   "pygments_lexer": "ipython3",
   "version": "3.8.12"
  },
  "orig_nbformat": 4
 },
 "nbformat": 4,
 "nbformat_minor": 2
}
