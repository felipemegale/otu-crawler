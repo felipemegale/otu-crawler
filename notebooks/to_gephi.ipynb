{
 "cells": [
  {
   "cell_type": "code",
   "execution_count": 141,
   "metadata": {},
   "outputs": [
    {
     "name": "stdout",
     "output_type": "stream",
     "text": [
      "Pandas version: 1.3.5\n",
      "Numpy version: 1.21.2\n"
     ]
    }
   ],
   "source": [
    "import pandas as pd\n",
    "import numpy as np\n",
    "import os\n",
    "pd_version = pd.__version__\n",
    "np_version = np.__version__\n",
    "print(f\"Pandas version: {pd_version}\")\n",
    "print(f\"Numpy version: {np_version}\")"
   ]
  },
  {
   "cell_type": "code",
   "execution_count": 142,
   "metadata": {},
   "outputs": [
    {
     "data": {
      "text/plain": [
       "['../csv/net/net_0.csv',\n",
       " '../csv/net/net_1.csv',\n",
       " '../csv/net/net_2.csv',\n",
       " '../csv/net/net_3.csv',\n",
       " '../csv/net/net_4.csv',\n",
       " '../csv/net/net_5.csv',\n",
       " '../csv/net/net_6.csv',\n",
       " '../csv/net/net_7.csv',\n",
       " '../csv/net/net_8.csv']"
      ]
     },
     "execution_count": 142,
     "metadata": {},
     "output_type": "execute_result"
    }
   ],
   "source": [
    "file_path = '../csv/net/'\n",
    "network_files = os.listdir(file_path)\n",
    "network_files = sorted(network_files)\n",
    "network_files = [file_path+x for x in network_files]\n",
    "network_files"
   ]
  },
  {
   "cell_type": "code",
   "execution_count": 143,
   "metadata": {},
   "outputs": [],
   "source": [
    "for net_file_idx in range(len(network_files)):\n",
    "    net_file = network_files[net_file_idx]\n",
    "    net_data = pd.read_csv(net_file).fillna('')\n",
    "    net_data_np = net_data.to_numpy()\n",
    "    gephi_net = [f'{row[1]},{row[2]}' for row in net_data_np]\n",
    "    gephi_net = [row.rstrip('-').rstrip(',') for row in gephi_net]\n",
    "    with open(f'{file_path}gephi_net_{net_file_idx}.csv', 'w') as f:\n",
    "        for adj_list in gephi_net:\n",
    "            f.write(f'{adj_list}\\n')"
   ]
  }
 ],
 "metadata": {
  "interpreter": {
   "hash": "861aa9608e346ca8088fd128975b05b28889f359c70fcf3aa48272e489c6a90e"
  },
  "kernelspec": {
   "display_name": "Python 3.8.12 64-bit ('netanalysis': conda)",
   "language": "python",
   "name": "python3"
  },
  "language_info": {
   "codemirror_mode": {
    "name": "ipython",
    "version": 3
   },
   "file_extension": ".py",
   "mimetype": "text/x-python",
   "name": "python",
   "nbconvert_exporter": "python",
   "pygments_lexer": "ipython3",
   "version": "3.8.12"
  },
  "orig_nbformat": 4
 },
 "nbformat": 4,
 "nbformat_minor": 2
}
