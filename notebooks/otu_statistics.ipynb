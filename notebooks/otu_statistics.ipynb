{
 "cells": [
  {
   "cell_type": "code",
   "execution_count": 75,
   "metadata": {},
   "outputs": [],
   "source": [
    "import networkx as nx\n",
    "import json\n",
    "import matplotlib.pyplot as plt\n",
    "import numpy as np"
   ]
  },
  {
   "cell_type": "code",
   "execution_count": 76,
   "metadata": {},
   "outputs": [],
   "source": [
    "imgs_path = \"../img\"\n",
    "with open(\"./bfs_adj_list.json\", \"r\") as graph_file:\n",
    "    graph_data = graph_file.read()\n",
    "graph_dict = json.loads(graph_data)"
   ]
  },
  {
   "cell_type": "code",
   "execution_count": 77,
   "metadata": {},
   "outputs": [],
   "source": [
    "graph = nx.DiGraph(graph_dict)"
   ]
  },
  {
   "cell_type": "code",
   "execution_count": 78,
   "metadata": {},
   "outputs": [
    {
     "name": "stdout",
     "output_type": "stream",
     "text": [
      "Number of nodes 2592\n",
      "Number of edges 112137\n"
     ]
    }
   ],
   "source": [
    "print(\"Number of nodes\", graph.number_of_nodes())\n",
    "print(\"Number of edges\", graph.number_of_edges())"
   ]
  },
  {
   "cell_type": "code",
   "execution_count": 79,
   "metadata": {},
   "outputs": [
    {
     "name": "stdout",
     "output_type": "stream",
     "text": [
      "Density 0.01669731049073002\n"
     ]
    }
   ],
   "source": [
    "print(\"Density\", nx.density(graph))"
   ]
  },
  {
   "cell_type": "code",
   "execution_count": 80,
   "metadata": {},
   "outputs": [
    {
     "name": "stdout",
     "output_type": "stream",
     "text": [
      "Degree distribution\n"
     ]
    },
    {
     "data": {
      "image/png": "[encoded data removed]",
      "text/plain": [
       "<Figure size 432x288 with 1 Axes>"
      ]
     },
     "metadata": {
      "needs_background": "light"
     },
     "output_type": "display_data"
    }
   ],
   "source": [
    "print(\"Degree distribution\")\n",
    "graph_degree_sequence = sorted([d for n,d in graph.degree()], reverse=True)\n",
    "graph_degree_distribution_fig, graph_degree_distribution_ax = plt.subplots()\n",
    "graph_degree_distribution = graph_degree_distribution_ax.bar(*np.unique(graph_degree_sequence, return_counts=True))\n",
    "graph_degree_distribution_ax.set_xlabel(\"Degree\")\n",
    "graph_degree_distribution_ax.set_ylabel(\"# of Nodes\")\n",
    "plt.ylim(1,80)\n",
    "plt.savefig(f\"{imgs_path}/otu_degree_distribution.png\")"
   ]
  },
  {
   "cell_type": "code",
   "execution_count": 81,
   "metadata": {},
   "outputs": [
    {
     "name": "stdout",
     "output_type": "stream",
     "text": [
      "Degree distribution (log-log)\n"
     ]
    },
    {
     "data": {
      "image/png": "[encoded data removed]",
      "text/plain": [
       "<Figure size 432x288 with 1 Axes>"
      ]
     },
     "metadata": {
      "needs_background": "light"
     },
     "output_type": "display_data"
    }
   ],
   "source": [
    "print(\"Degree distribution (log-log)\")\n",
    "graph_degree_sequence = sorted([d for n,d in graph.degree()], reverse=True)\n",
    "graph_degree_distribution_fig, graph_degree_distribution_ax = plt.subplots()\n",
    "graph_degree_distribution = graph_degree_distribution_ax.bar(*np.unique(graph_degree_sequence, return_counts=True))\n",
    "graph_degree_distribution_ax.set_xlabel(\"Degree\")\n",
    "graph_degree_distribution_ax.set_ylabel(\"# of Nodes\")\n",
    "plt.xscale(\"log\")\n",
    "plt.yscale(\"log\")\n",
    "plt.savefig(f\"{imgs_path}/otu_log_log_degree_distribution.png\")"
   ]
  },
  {
   "cell_type": "code",
   "execution_count": 82,
   "metadata": {},
   "outputs": [
    {
     "name": "stdout",
     "output_type": "stream",
     "text": [
      "Average clustering coefficient 0.49300588667153894\n"
     ]
    }
   ],
   "source": [
    "graph_avg_clust_coef = nx.average_clustering(graph)\n",
    "print(\"Average clustering coefficient\", graph_avg_clust_coef)"
   ]
  },
  {
   "cell_type": "code",
   "execution_count": 83,
   "metadata": {},
   "outputs": [
    {
     "name": "stdout",
     "output_type": "stream",
     "text": [
      "Number of nodes in SCC 2343\n",
      "Average shortest path length 4.737345794092766\n",
      "Diameter 63\n"
     ]
    }
   ],
   "source": [
    "graph_comps = nx.strongly_connected_components(graph)\n",
    "print(\"Number of nodes in SCC\", max([len(c) for c in sorted(graph_comps, key=len, reverse=True)]))\n",
    "\n",
    "graph_comps = list(sorted(nx.strongly_connected_components(graph), key=len, reverse=True)[0])\n",
    "graph_scc_subgraph = graph.subgraph(graph_comps)\n",
    "\n",
    "print(\"Average shortest path length\", nx.average_shortest_path_length(graph_scc_subgraph))\n",
    "\n",
    "print(\"Diameter\", nx.diameter(graph_scc_subgraph))"
   ]
  },
  {
   "cell_type": "code",
   "execution_count": 84,
   "metadata": {},
   "outputs": [
    {
     "name": "stdout",
     "output_type": "stream",
     "text": [
      "Nodes in WCC 2592\n",
      "Average shortest path length 4.261218051803251\n",
      "Diameter 7\n"
     ]
    }
   ],
   "source": [
    "graph_wcc = nx.weakly_connected_components(graph)\n",
    "nodes_wcc = max([len(c) for c in sorted(graph_wcc, key=len, reverse=True)])\n",
    "\n",
    "graph_wcc_comps = list(sorted(nx.weakly_connected_components(graph), key=len, reverse=True)[0])\n",
    "graph_wcc_subgraph = graph.subgraph(graph_wcc_comps)\n",
    "\n",
    "print(\"Nodes in WCC\", nodes_wcc)\n",
    "\n",
    "print(\"Average shortest path length\", nx.average_shortest_path_length(graph_wcc_subgraph))\n",
    "\n",
    "print(\"Diameter\", nx.diameter(graph_wcc_subgraph.to_undirected()))"
   ]
  },
  {
   "cell_type": "code",
   "execution_count": 85,
   "metadata": {},
   "outputs": [
    {
     "data": {
      "text/plain": [
       "True"
      ]
     },
     "execution_count": 85,
     "metadata": {},
     "output_type": "execute_result"
    }
   ],
   "source": [
    "nx.is_weakly_connected(graph)"
   ]
  },
  {
   "cell_type": "code",
   "execution_count": 86,
   "metadata": {},
   "outputs": [],
   "source": [
    "import matplotlib.cm as cm\n",
    "from networkx.algorithms.community import girvan_newman"
   ]
  },
  {
   "cell_type": "code",
   "execution_count": 87,
   "metadata": {},
   "outputs": [],
   "source": [
    "graph_comms = girvan_newman(graph)\n",
    "graph_comms_groups = []\n",
    "for graph_comm in next(graph_comms):\n",
    "    graph_comms_groups.append(graph_comm)\n",
    "\n",
    "# graph_colors = cm.rainbow(np.linspace(0, 1, len(graph_comms_groups)))\n",
    "# graph_comms_color_map = []\n",
    "# for graph_node in graph:\n",
    "#     for graph_group in graph_comms_groups:\n",
    "#         if graph_node in graph_group:\n",
    "#             graph_group_idx = graph_comms_groups.index(graph_group)\n",
    "#             graph_comms_color_map.append(graph_colors[graph_group_idx])\n",
    "\n",
    "# nx.draw_networkx(graph, node_color=graph_comms_color_map, with_labels=True)\n",
    "# plt.savefig(f'{imgs_path}/otu_communities.png')"
   ]
  },
  {
   "cell_type": "code",
   "execution_count": 88,
   "metadata": {},
   "outputs": [
    {
     "name": "stdout",
     "output_type": "stream",
     "text": [
      "2589\n",
      "3\n"
     ]
    }
   ],
   "source": [
    "print(len(graph_comms_groups[0]))\n",
    "print(len(graph_comms_groups[1]))"
   ]
  },
  {
   "cell_type": "code",
   "execution_count": 89,
   "metadata": {},
   "outputs": [
    {
     "data": {
      "image/png": "[encoded data removed]",
      "text/plain": [
       "<Figure size 432x288 with 1 Axes>"
      ]
     },
     "metadata": {},
     "output_type": "display_data"
    }
   ],
   "source": [
    "graph_colors = cm.rainbow(np.linspace(0, 1, len(graph_comms_groups)))\n",
    "graph_comms_color_map = []\n",
    "for graph_node in graph:\n",
    "    for graph_group in graph_comms_groups:\n",
    "        if graph_node in graph_group:\n",
    "            graph_group_idx = graph_comms_groups.index(graph_group)\n",
    "            graph_comms_color_map.append(graph_colors[graph_group_idx])\n",
    "\n",
    "nx.draw_networkx(graph, node_color=graph_comms_color_map, with_labels=False, node_size=100, arrowsize=5)\n",
    "plt.savefig(f'{imgs_path}/otu_communities.png')"
   ]
  },
  {
   "cell_type": "code",
   "execution_count": 90,
   "metadata": {},
   "outputs": [],
   "source": [
    "community_1_graph = graph.subgraph(graph_comms_groups[0])\n",
    "community_2_graph = graph.subgraph(graph_comms_groups[1])"
   ]
  },
  {
   "cell_type": "code",
   "execution_count": 91,
   "metadata": {},
   "outputs": [
    {
     "name": "stdout",
     "output_type": "stream",
     "text": [
      "Community 1, max in degree ('https://ontariotechu.ca', 2310)\n",
      "Community 1, max out degree ('https://ontariotechu.ca', 257)\n",
      "Community 2, max in degree ('https://fr.mindsight.ontariotechu.ca', 2)\n",
      "Community 2, max out degree ('https://mindsight.ontariotechu.ca', 1)\n"
     ]
    }
   ],
   "source": [
    "print(\"Community 1, max in degree\",sorted([(d, n) for d,n in community_1_graph.in_degree()], key=lambda x: x[1], reverse=True)[0])\n",
    "print(\"Community 1, max out degree\",sorted([(d, n) for d,n in community_1_graph.out_degree()], key=lambda x: x[1], reverse=True)[0])\n",
    "\n",
    "print(\"Community 2, max in degree\",sorted([(d, n) for d,n in community_2_graph.in_degree()], key=lambda x: x[1], reverse=True)[0])\n",
    "print(\"Community 2, max out degree\",sorted([(d, n) for d,n in community_2_graph.out_degree()], key=lambda x: x[1], reverse=True)[0])"
   ]
  },
  {
   "cell_type": "code",
   "execution_count": 92,
   "metadata": {},
   "outputs": [],
   "source": [
    "from networkx.algorithms.centrality import degree_centrality, in_degree_centrality, out_degree_centrality, betweenness_centrality, closeness_centrality"
   ]
  },
  {
   "cell_type": "code",
   "execution_count": 93,
   "metadata": {},
   "outputs": [],
   "source": [
    "'''Degree Centrality'''\n",
    "graph_degree_centrality = degree_centrality(graph)\n",
    "graph_degree_centrality = dict(sorted(graph_degree_centrality.items(), key=lambda item: item[1], reverse=True))\n",
    "\n",
    "graph_in_degree_centrality = in_degree_centrality(graph)\n",
    "graph_in_degree_centrality = dict(sorted(graph_in_degree_centrality.items(), key=lambda item: item[1], reverse=True))\n",
    "\n",
    "graph_out_degree_centrality = out_degree_centrality(graph)\n",
    "graph_out_degree_centrality = dict(sorted(graph_out_degree_centrality.items(), key=lambda item: item[1], reverse=True))\n",
    "\n",
    "graph_degree_items = list(graph_degree_centrality.items())[:10]\n",
    "graph_in_degree_items = list(graph_in_degree_centrality.items())[:10]\n",
    "graph_out_degree_items = list(graph_out_degree_centrality.items())[:10]"
   ]
  },
  {
   "cell_type": "code",
   "execution_count": 99,
   "metadata": {},
   "outputs": [
    {
     "name": "stdout",
     "output_type": "stream",
     "text": [
      "Network degree\n",
      "1 & https://ontariotechu.ca & 0.991 \\\\ \\hline\n",
      "2 & https://ontariotechu.ca/future-students/undergraduate/campus-tours-and-events & 0.914 \\\\ \\hline\n",
      "3 & https://ontariotechu.ca/faculty_staff & 0.912 \\\\ \\hline\n",
      "4 & https://ontariotechu.ca/virtualtour & 0.911 \\\\ \\hline\n",
      "5 & https://ontariotechu.ca/contact-us.php & 0.911 \\\\ \\hline\n",
      "6 & https://ontariotechu.ca/terms-of-use.php & 0.910 \\\\ \\hline\n",
      "7 & https://ontariotechu.ca/about & 0.910 \\\\ \\hline\n",
      "8 & https://ontariotechu.ca/about/campus-buildings & 0.910 \\\\ \\hline\n",
      "9 & https://usgc.ontariotechu.ca/governance & 0.832 \\\\ \\hline\n",
      "10 & https://hr.ontariotechu.ca/working_at_uoit/careers & 0.832 \\\\ \\hline\n"
     ]
    }
   ],
   "source": [
    "print(\"Network degree\")\n",
    "for idx in range(len(graph_degree_items)):\n",
    "    print(f'{idx+1} & {graph_degree_items[idx][0]} & {format(graph_degree_items[idx][1], \".3f\")} \\\\\\ \\hline')"
   ]
  },
  {
   "cell_type": "code",
   "execution_count": 100,
   "metadata": {},
   "outputs": [
    {
     "name": "stdout",
     "output_type": "stream",
     "text": [
      "Network in degree\n",
      "1 & https://ontariotechu.ca & 0.892 \\\\ \\hline\n",
      "2 & https://ontariotechu.ca/forms/online/view.php & 0.819 \\\\ \\hline\n",
      "3 & https://news.ontariotechu.ca/media-inquiries & 0.816 \\\\ \\hline\n",
      "4 & https://ontariotechu.ca/maps & 0.816 \\\\ \\hline\n",
      "5 & https://ontariotechu.ca/about & 0.816 \\\\ \\hline\n",
      "6 & https://ontariotechu.ca/future-students/undergraduate/campus-tours-and-events & 0.816 \\\\ \\hline\n",
      "7 & https://ontariotechu.ca/virtualtour & 0.816 \\\\ \\hline\n",
      "8 & https://usgc.ontariotechu.ca/governance & 0.816 \\\\ \\hline\n",
      "9 & https://hr.ontariotechu.ca/working_at_uoit/careers & 0.816 \\\\ \\hline\n",
      "10 & https://ontariotechu.ca/terms-of-use.php & 0.816 \\\\ \\hline\n"
     ]
    }
   ],
   "source": [
    "print(\"Network in degree\")\n",
    "for idx in range(len(graph_in_degree_items)):\n",
    "    print(f'{idx+1} & {graph_in_degree_items[idx][0]} & {format(graph_in_degree_items[idx][1], \".3f\")} \\\\\\ \\hline')"
   ]
  },
  {
   "cell_type": "code",
   "execution_count": 101,
   "metadata": {},
   "outputs": [
    {
     "name": "stdout",
     "output_type": "stream",
     "text": [
      "Network out degree\n",
      "1 & https://ontariotechu.ca & 0.099 \\\\ \\hline\n",
      "2 & https://ontariotechu.ca/faculty_staff & 0.098 \\\\ \\hline\n",
      "3 & https://ontariotechu.ca/future-students/undergraduate/campus-tours-and-events & 0.097 \\\\ \\hline\n",
      "4 & https://ontariotechu.ca/connectwithus & 0.097 \\\\ \\hline\n",
      "5 & https://blog.ontariotechu.ca/all & 0.096 \\\\ \\hline\n",
      "6 & https://ontariotechu.ca/mycampus & 0.096 \\\\ \\hline\n",
      "7 & https://ontariotechu.ca/about/campus-buildings/downtown-oshawa & 0.096 \\\\ \\hline\n",
      "8 & https://ontariotechu.ca/apply & 0.095 \\\\ \\hline\n",
      "9 & https://ontariotechu.ca/future-students/viewbooks.php & 0.095 \\\\ \\hline\n",
      "10 & https://ontariotechu.ca/current-students/academic-calendars/academic-calendar-archive.php & 0.095 \\\\ \\hline\n"
     ]
    }
   ],
   "source": [
    "print(\"Network out degree\")\n",
    "for idx in range(len(graph_out_degree_items)):\n",
    "    print(f'{idx+1} & {graph_out_degree_items[idx][0]} & {format(graph_out_degree_items[idx][1], \".3f\")} \\\\\\ \\hline')"
   ]
  },
  {
   "cell_type": "code",
   "execution_count": 103,
   "metadata": {},
   "outputs": [
    {
     "name": "stdout",
     "output_type": "stream",
     "text": [
      "1 & https://ontariotechu.ca & 0.891 \\\\ \\hline\n",
      "2 & https://ontariotechu.ca/forms/online/view.php & 0.827 \\\\ \\hline\n",
      "3 & https://ontariotechu.ca/maps & 0.824 \\\\ \\hline\n",
      "4 & https://news.ontariotechu.ca/media-inquiries & 0.824 \\\\ \\hline\n",
      "5 & https://ontariotechu.ca/about & 0.824 \\\\ \\hline\n",
      "6 & https://ontariotechu.ca/future-students/undergraduate/campus-tours-and-events & 0.824 \\\\ \\hline\n",
      "7 & https://ontariotechu.ca/virtualtour & 0.824 \\\\ \\hline\n",
      "8 & https://usgc.ontariotechu.ca/governance & 0.824 \\\\ \\hline\n",
      "9 & https://hr.ontariotechu.ca/working_at_uoit/careers & 0.824 \\\\ \\hline\n",
      "10 & https://ontariotechu.ca/terms-of-use.php & 0.824 \\\\ \\hline\n"
     ]
    }
   ],
   "source": [
    "'''Closeness'''\n",
    "graph_closeness_centrality = closeness_centrality(graph)\n",
    "graph_closeness_centrality = dict(sorted(graph_closeness_centrality.items(), key=lambda item: item[1], reverse=True))\n",
    "\n",
    "graph_closeness_items = list(graph_closeness_centrality.items())[:10]\n",
    "\n",
    "for idx in range(len(graph_closeness_items)):\n",
    "    print(f'{idx+1} & {graph_closeness_items[idx][0]} & {format(graph_closeness_items[idx][1], \".3f\")} \\\\\\ \\hline')"
   ]
  },
  {
   "cell_type": "code",
   "execution_count": 104,
   "metadata": {},
   "outputs": [
    {
     "name": "stdout",
     "output_type": "stream",
     "text": [
      "1 & https://blog.ontariotechu.ca & 0.284 \\\\ \\hline\n",
      "2 & https://blog.ontariotechu.ca/all & 0.214 \\\\ \\hline\n",
      "3 & https://ontariotechu.ca & 0.107 \\\\ \\hline\n",
      "4 & https://ontariotechu.ca/sites/library & 0.066 \\\\ \\hline\n",
      "5 & https://news.ontariotechu.ca/archives/2021/12/in-retrospect-ontario-tech-university-in-2021.php & 0.057 \\\\ \\hline\n",
      "6 & https://ontariotechu.ca/future-students/undergraduate/campus-tours-and-events & 0.043 \\\\ \\hline\n",
      "7 & https://ontariotechu.ca/faculty_staff & 0.041 \\\\ \\hline\n",
      "8 & https://ontariotechu.ca/contact-us.php & 0.035 \\\\ \\hline\n",
      "9 & https://socialscienceandhumanities.ontariotechu.ca & 0.035 \\\\ \\hline\n",
      "10 & https://ontariotechu.ca/virtualtour & 0.035 \\\\ \\hline\n"
     ]
    }
   ],
   "source": [
    "'''Betweenness'''\n",
    "graph_betweenness_centrality = betweenness_centrality(graph)\n",
    "graph_betweenness_centrality = dict(sorted(graph_betweenness_centrality.items(), key=lambda item: item[1], reverse=True))\n",
    "\n",
    "graph_betweenness_items = list(graph_betweenness_centrality.items())[:10]\n",
    "\n",
    "for idx in range(len(graph_betweenness_items)):\n",
    "    print(f'{idx+1} & {graph_betweenness_items[idx][0]} & {format(graph_betweenness_items[idx][1], \".3f\")} \\\\\\ \\hline')"
   ]
  },
  {
   "cell_type": "code",
   "execution_count": 106,
   "metadata": {},
   "outputs": [
    {
     "name": "stdout",
     "output_type": "stream",
     "text": [
      "1 & https://ontariotechu.ca & 0.022 \\\\ \\hline\n",
      "2 & https://ontariotechu.ca/sites/library & 0.017 \\\\ \\hline\n",
      "3 & https://ontariotechu.ca/forms/online/view.php & 0.014 \\\\ \\hline\n",
      "4 & https://news.ontariotechu.ca/media-inquiries & 0.014 \\\\ \\hline\n",
      "5 & https://ontariotechu.ca/maps & 0.014 \\\\ \\hline\n",
      "6 & https://ontariotechu.ca/about & 0.014 \\\\ \\hline\n",
      "7 & https://ontariotechu.ca/future-students/undergraduate/campus-tours-and-events & 0.014 \\\\ \\hline\n",
      "8 & https://ontariotechu.ca/virtualtour & 0.014 \\\\ \\hline\n",
      "9 & https://usgc.ontariotechu.ca/governance & 0.014 \\\\ \\hline\n",
      "10 & https://hr.ontariotechu.ca/working_at_uoit/careers & 0.014 \\\\ \\hline\n"
     ]
    }
   ],
   "source": [
    "'''Page Rank'''\n",
    "graph_page_rank_centrality = nx.pagerank(graph)\n",
    "graph_page_rank_centrality = dict(sorted(graph_page_rank_centrality.items(), key=lambda item: item[1], reverse=True))\n",
    "\n",
    "graph_page_rank_items = list(graph_page_rank_centrality.items())[:10]\n",
    "\n",
    "for idx in range(len(graph_page_rank_items)):\n",
    "    print(f'{idx+1} & {graph_page_rank_items[idx][0]} & {format(graph_page_rank_items[idx][1], \".3f\")} \\\\\\ \\hline')"
   ]
  },
  {
   "cell_type": "code",
   "execution_count": null,
   "metadata": {},
   "outputs": [],
   "source": []
  }
 ],
 "metadata": {
  "interpreter": {
   "hash": "861aa9608e346ca8088fd128975b05b28889f359c70fcf3aa48272e489c6a90e"
  },
  "kernelspec": {
   "display_name": "Python 3.8.12 ('netanalysis')",
   "language": "python",
   "name": "python3"
  },
  "language_info": {
   "codemirror_mode": {
    "name": "ipython",
    "version": 3
   },
   "file_extension": ".py",
   "mimetype": "text/x-python",
   "name": "python",
   "nbconvert_exporter": "python",
   "pygments_lexer": "ipython3",
   "version": "3.8.12"
  },
  "orig_nbformat": 4
 },
 "nbformat": 4,
 "nbformat_minor": 2
}
