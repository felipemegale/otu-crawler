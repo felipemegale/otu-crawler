{
 "cells": [
  {
   "cell_type": "code",
   "execution_count": 2,
   "metadata": {},
   "outputs": [],
   "source": [
    "import networkx as nx\n",
    "import json\n",
    "import matplotlib.pyplot as plt\n",
    "import numpy as np"
   ]
  },
  {
   "cell_type": "code",
   "execution_count": 3,
   "metadata": {},
   "outputs": [],
   "source": [
    "imgs_path = \"../img\"\n",
    "with open(\"./bfs_adj_list.json\", \"r\") as graph_file:\n",
    "    graph_data = graph_file.read()\n",
    "graph_dict = json.loads(graph_data)"
   ]
  },
  {
   "cell_type": "code",
   "execution_count": 4,
   "metadata": {},
   "outputs": [],
   "source": [
    "graph = nx.DiGraph(graph_dict)"
   ]
  },
  {
   "cell_type": "code",
   "execution_count": 5,
   "metadata": {},
   "outputs": [
    {
     "name": "stdout",
     "output_type": "stream",
     "text": [
      "Number of nodes 2916\n",
      "Number of edges 109213\n"
     ]
    }
   ],
   "source": [
    "print(\"Number of nodes\", graph.number_of_nodes())\n",
    "print(\"Number of edges\", graph.number_of_edges())"
   ]
  },
  {
   "cell_type": "code",
   "execution_count": 6,
   "metadata": {},
   "outputs": [
    {
     "name": "stdout",
     "output_type": "stream",
     "text": [
      "Density 0.0128483766149734\n"
     ]
    }
   ],
   "source": [
    "print(\"Density\", nx.density(graph))"
   ]
  },
  {
   "cell_type": "code",
   "execution_count": 7,
   "metadata": {},
   "outputs": [
    {
     "name": "stdout",
     "output_type": "stream",
     "text": [
      "Degree distribution\n"
     ]
    },
    {
     "data": {
      "image/png": "[encoded data removed]",
      "text/plain": [
       "<Figure size 432x288 with 1 Axes>"
      ]
     },
     "metadata": {
      "needs_background": "light"
     },
     "output_type": "display_data"
    }
   ],
   "source": [
    "print(\"Degree distribution\")\n",
    "graph_degree_sequence = sorted([d for n,d in graph.degree()], reverse=True)\n",
    "graph_degree_distribution_fig, graph_degree_distribution_ax = plt.subplots()\n",
    "graph_degree_distribution = graph_degree_distribution_ax.bar(*np.unique(graph_degree_sequence, return_counts=True))\n",
    "graph_degree_distribution_ax.set_xlabel(\"Degree\")\n",
    "graph_degree_distribution_ax.set_ylabel(\"# of Nodes\")\n",
    "plt.ylim(1,55)\n",
    "plt.savefig(f\"{imgs_path}/otu_degree_distribution.png\")"
   ]
  },
  {
   "cell_type": "code",
   "execution_count": 8,
   "metadata": {},
   "outputs": [
    {
     "name": "stdout",
     "output_type": "stream",
     "text": [
      "Degree distribution (log-log)\n"
     ]
    },
    {
     "data": {
      "image/png": "[encoded data removed]",
      "text/plain": [
       "<Figure size 432x288 with 1 Axes>"
      ]
     },
     "metadata": {
      "needs_background": "light"
     },
     "output_type": "display_data"
    }
   ],
   "source": [
    "print(\"Degree distribution (log-log)\")\n",
    "graph_degree_sequence = sorted([d for n,d in graph.degree()], reverse=True)\n",
    "graph_degree_distribution_fig, graph_degree_distribution_ax = plt.subplots()\n",
    "graph_degree_distribution = graph_degree_distribution_ax.bar(*np.unique(graph_degree_sequence, return_counts=True))\n",
    "graph_degree_distribution_ax.set_xlabel(\"Degree\")\n",
    "graph_degree_distribution_ax.set_ylabel(\"# of Nodes\")\n",
    "plt.xscale(\"log\")\n",
    "plt.yscale(\"log\")\n",
    "plt.savefig(f\"{imgs_path}/otu_log_log_degree_distribution.png\")"
   ]
  },
  {
   "cell_type": "code",
   "execution_count": 9,
   "metadata": {},
   "outputs": [
    {
     "name": "stdout",
     "output_type": "stream",
     "text": [
      "Average clustering coefficient 0.4567430260826711\n"
     ]
    }
   ],
   "source": [
    "graph_avg_clust_coef = nx.average_clustering(graph)\n",
    "print(\"Average clustering coefficient\", graph_avg_clust_coef)"
   ]
  },
  {
   "cell_type": "code",
   "execution_count": 10,
   "metadata": {},
   "outputs": [
    {
     "name": "stdout",
     "output_type": "stream",
     "text": [
      "Number of nodes in SCC 2225\n",
      "Average shortest path length 4.685841484116078\n",
      "Diameter 64\n"
     ]
    }
   ],
   "source": [
    "graph_comps = nx.strongly_connected_components(graph)\n",
    "print(\"Number of nodes in SCC\", max([len(c) for c in sorted(graph_comps, key=len, reverse=True)]))\n",
    "\n",
    "graph_comps = list(sorted(nx.strongly_connected_components(graph), key=len, reverse=True)[0])\n",
    "graph_scc_subgraph = graph.subgraph(graph_comps)\n",
    "\n",
    "print(\"Average shortest path length\", nx.average_shortest_path_length(graph_scc_subgraph))\n",
    "print(\"Diameter\", nx.diameter(graph_scc_subgraph))"
   ]
  },
  {
   "cell_type": "code",
   "execution_count": 17,
   "metadata": {},
   "outputs": [
    {
     "name": "stdout",
     "output_type": "stream",
     "text": [
      "Nodes in WCC 2916\n",
      "Average shortest path length 3.7103245358311745\n",
      "Diameter 8\n"
     ]
    }
   ],
   "source": [
    "graph_wcc = nx.weakly_connected_components(graph)\n",
    "nodes_wcc = max([len(c) for c in sorted(graph_wcc, key=len, reverse=True)])\n",
    "\n",
    "graph_wcc_comps = list(sorted(nx.weakly_connected_components(graph), key=len, reverse=True)[0])\n",
    "graph_wcc_subgraph = graph.subgraph(graph_wcc_comps)\n",
    "\n",
    "print(\"Nodes in WCC\", nodes_wcc)\n",
    "print(\"Average shortest path length\", nx.average_shortest_path_length(graph_wcc_subgraph))\n",
    "print(\"Diameter\", nx.diameter(graph_wcc_subgraph.to_undirected()))"
   ]
  },
  {
   "cell_type": "code",
   "execution_count": null,
   "metadata": {},
   "outputs": [],
   "source": []
  }
 ],
 "metadata": {
  "interpreter": {
   "hash": "861aa9608e346ca8088fd128975b05b28889f359c70fcf3aa48272e489c6a90e"
  },
  "kernelspec": {
   "display_name": "Python 3.8.12 ('netanalysis')",
   "language": "python",
   "name": "python3"
  },
  "language_info": {
   "codemirror_mode": {
    "name": "ipython",
    "version": 3
   },
   "file_extension": ".py",
   "mimetype": "text/x-python",
   "name": "python",
   "nbconvert_exporter": "python",
   "pygments_lexer": "ipython3",
   "version": "3.8.12"
  },
  "orig_nbformat": 4
 },
 "nbformat": 4,
 "nbformat_minor": 2
}
